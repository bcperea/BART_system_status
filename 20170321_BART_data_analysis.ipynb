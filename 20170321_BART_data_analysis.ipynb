{
 "cells": [
  {
   "cell_type": "markdown",
   "metadata": {
    "deletable": true,
    "editable": true
   },
   "source": [
    "# Bay Area Rapid Transit (BART) Delays During Peak Hours\n",
    "\n",
    "## Brian Perea (2017)\n",
    "\n",
    "## The Data Set:\n",
    "\n",
    "Data characterized in this repository was collected from the BART and \n",
    "Open Weather Map APIs over the course of about a year from March 2016 to \n",
    "March 2017. Data points were collected seven days a week, twice a day -- \n",
    "once in the morning at 8 AM and once in the evening at 5 PM. These hours \n",
    "were selected to correspond to peak use hours, especially on weekdays.\n",
    "\n",
    "The following features were collected:\n",
    "* **date**: mm/dd/yyyy, date on which data was collected\n",
    "* **description**: string, description of BART system status \n",
    "* **elev_status**: string, description of elevator status in BART system\n",
    "* **posted**: string, timestamp associated with API call\n",
    "* **traincount**: count, number of active trains\n",
    "* **type**: string, \"DELAY\" when delays on BART, else NaN\n",
    "* **weather**: string, one-word description of weather conditions"
   ]
  },
  {
   "cell_type": "markdown",
   "metadata": {
    "deletable": true,
    "editable": true
   },
   "source": [
    "### Import Libraries and Configure Plotting"
   ]
  },
  {
   "cell_type": "code",
   "execution_count": 1,
   "metadata": {
    "collapsed": false,
    "deletable": true,
    "editable": true
   },
   "outputs": [],
   "source": [
    "import numpy as np\n",
    "import pandas as pd\n",
    "import matplotlib.pyplot as plt\n",
    "import seaborn as sns\n",
    "import re\n",
    "import time\n",
    "\n",
    "sns.set(style=\"ticks\", context=\"notebook\", font_scale=1.5)\n",
    "sns.set_palette(\"muted\", 3, .75, color_codes=True)\n",
    "%matplotlib inline"
   ]
  },
  {
   "cell_type": "markdown",
   "metadata": {
    "deletable": true,
    "editable": true
   },
   "source": [
    "### Load Data"
   ]
  },
  {
   "cell_type": "code",
   "execution_count": 2,
   "metadata": {
    "collapsed": false,
    "deletable": true,
    "editable": true
   },
   "outputs": [
    {
     "data": {
      "text/html": [
       "<div>\n",
       "<table border=\"1\" class=\"dataframe\">\n",
       "  <thead>\n",
       "    <tr style=\"text-align: right;\">\n",
       "      <th></th>\n",
       "      <th>date</th>\n",
       "      <th>description</th>\n",
       "      <th>elev_status</th>\n",
       "      <th>posted</th>\n",
       "      <th>time</th>\n",
       "      <th>traincount</th>\n",
       "      <th>type</th>\n",
       "      <th>weather</th>\n",
       "    </tr>\n",
       "  </thead>\n",
       "  <tbody>\n",
       "    <tr>\n",
       "      <th>0</th>\n",
       "      <td>03/22/2016</td>\n",
       "      <td>There is a 10-minute delay on the Pittsburg/Ba...</td>\n",
       "      <td>There are two elevators out of service at this...</td>\n",
       "      <td>Tue Mar 22 2016 03:00 PM PDT</td>\n",
       "      <td>17:31:00 PM PDT</td>\n",
       "      <td>58.0</td>\n",
       "      <td>DELAY</td>\n",
       "      <td>Clear</td>\n",
       "    </tr>\n",
       "    <tr>\n",
       "      <th>1</th>\n",
       "      <td>03/23/2016</td>\n",
       "      <td>There is a 10-minute delay on the Pittsburg/Ba...</td>\n",
       "      <td>There are two elevators out of service at this...</td>\n",
       "      <td>Tue Mar 22 2016 03:00 PM PDT</td>\n",
       "      <td>08:00:00 AM PDT</td>\n",
       "      <td>59.0</td>\n",
       "      <td>DELAY</td>\n",
       "      <td>Clouds</td>\n",
       "    </tr>\n",
       "    <tr>\n",
       "      <th>2</th>\n",
       "      <td>03/23/2016</td>\n",
       "      <td>BART is running shuttle trains between North C...</td>\n",
       "      <td>There are two elevators out of service at this...</td>\n",
       "      <td>Wed Mar 23 2016 05:04 PM PDT</td>\n",
       "      <td>18:01:00 PM PDT</td>\n",
       "      <td>61.0</td>\n",
       "      <td>DELAY</td>\n",
       "      <td>Haze</td>\n",
       "    </tr>\n",
       "    <tr>\n",
       "      <th>3</th>\n",
       "      <td>03/24/2016</td>\n",
       "      <td>BART is running shuttle trains between North C...</td>\n",
       "      <td>There are two elevators out of service at this...</td>\n",
       "      <td>Wed Mar 23 2016 05:04 PM PDT</td>\n",
       "      <td>08:00:00 AM PDT</td>\n",
       "      <td>59.0</td>\n",
       "      <td>DELAY</td>\n",
       "      <td>Clouds</td>\n",
       "    </tr>\n",
       "    <tr>\n",
       "      <th>4</th>\n",
       "      <td>03/24/2016</td>\n",
       "      <td>BART is running shuttle trains between North C...</td>\n",
       "      <td>There are two elevators out of service at this...</td>\n",
       "      <td>Wed Mar 23 2016 05:04 PM PDT</td>\n",
       "      <td>17:30:00 PM PDT</td>\n",
       "      <td>60.0</td>\n",
       "      <td>DELAY</td>\n",
       "      <td>Clouds</td>\n",
       "    </tr>\n",
       "  </tbody>\n",
       "</table>\n",
       "</div>"
      ],
      "text/plain": [
       "         date                                        description  \\\n",
       "0  03/22/2016  There is a 10-minute delay on the Pittsburg/Ba...   \n",
       "1  03/23/2016  There is a 10-minute delay on the Pittsburg/Ba...   \n",
       "2  03/23/2016  BART is running shuttle trains between North C...   \n",
       "3  03/24/2016  BART is running shuttle trains between North C...   \n",
       "4  03/24/2016  BART is running shuttle trains between North C...   \n",
       "\n",
       "                                         elev_status  \\\n",
       "0  There are two elevators out of service at this...   \n",
       "1  There are two elevators out of service at this...   \n",
       "2  There are two elevators out of service at this...   \n",
       "3  There are two elevators out of service at this...   \n",
       "4  There are two elevators out of service at this...   \n",
       "\n",
       "                         posted             time  traincount   type weather  \n",
       "0  Tue Mar 22 2016 03:00 PM PDT  17:31:00 PM PDT        58.0  DELAY   Clear  \n",
       "1  Tue Mar 22 2016 03:00 PM PDT  08:00:00 AM PDT        59.0  DELAY  Clouds  \n",
       "2  Wed Mar 23 2016 05:04 PM PDT  18:01:00 PM PDT        61.0  DELAY    Haze  \n",
       "3  Wed Mar 23 2016 05:04 PM PDT  08:00:00 AM PDT        59.0  DELAY  Clouds  \n",
       "4  Wed Mar 23 2016 05:04 PM PDT  17:30:00 PM PDT        60.0  DELAY  Clouds  "
      ]
     },
     "execution_count": 2,
     "metadata": {},
     "output_type": "execute_result"
    }
   ],
   "source": [
    "df = pd.DataFrame.from_csv(r\"./BART_data.csv\", index_col=None)\n",
    "df.head()"
   ]
  },
  {
   "cell_type": "markdown",
   "metadata": {
    "deletable": true,
    "editable": true
   },
   "source": [
    "### Let's start by looking at delays. How many delays were observed over the duration of data collection?"
   ]
  },
  {
   "cell_type": "code",
   "execution_count": 3,
   "metadata": {
    "collapsed": false,
    "deletable": true,
    "editable": true
   },
   "outputs": [
    {
     "name": "stdout",
     "output_type": "stream",
     "text": [
      "BART riders experienced delays on 182 out of 436 timepoints assessed (two per day).\n",
      "The BART system recorded a delay rate of 41.7% during peak hours (8 AM and 5 PM daily) between 03/22/2016 and 03/10/2017.\n"
     ]
    }
   ],
   "source": [
    "total_delays = np.sum(df[\"type\"] == \"DELAY\")\n",
    "total_timepoints = len(df)\n",
    "percent_delayed = round(total_delays/total_timepoints * 100, 1)\n",
    "start_date = df[\"date\"][0]\n",
    "end_date = df[\"date\"].values[-1]\n",
    "\n",
    "print(\"BART riders experienced delays on {total_delays} out of {total_timepoints} timepoints assessed (two per day).\".format(total_delays=total_delays, total_timepoints=total_timepoints))\n",
    "print(\"The BART system recorded a delay rate of {percent_delayed}% during peak hours (8 AM and 5 PM daily) between {start_date} and {end_date}.\".format(percent_delayed=percent_delayed, \n",
    "    start_date=start_date, end_date=end_date))"
   ]
  },
  {
   "cell_type": "markdown",
   "metadata": {
    "deletable": true,
    "editable": true
   },
   "source": [
    "### Why were there so many delays? What kind of descriptions are provided?"
   ]
  },
  {
   "cell_type": "code",
   "execution_count": 4,
   "metadata": {
    "collapsed": false,
    "deletable": true,
    "editable": true,
    "scrolled": true
   },
   "outputs": [
    {
     "data": {
      "text/plain": [
       "350                                  No delays reported.\n",
       "351                                  No delays reported.\n",
       "69                                   No delays reported.\n",
       "432    Downtown Berkeley station has re-opened.  All ...\n",
       "135                                  No delays reported.\n",
       "121                                  No delays reported.\n",
       "162                                  No delays reported.\n",
       "60     BART is recovering from an earlier problem. Th...\n",
       "22     Normal train service has resumed between North...\n",
       "233                                  No delays reported.\n",
       "349                                  No delays reported.\n",
       "384    During this Holiday Season, BART will be runni...\n",
       "35     Attention Passengers: This weekend there will ...\n",
       "337                                  No delays reported.\n",
       "201                                  No delays reported.\n",
       "Name: description, dtype: object"
      ]
     },
     "execution_count": 4,
     "metadata": {},
     "output_type": "execute_result"
    }
   ],
   "source": [
    "df.sample(15).description"
   ]
  },
  {
   "cell_type": "markdown",
   "metadata": {
    "deletable": true,
    "editable": true
   },
   "source": [
    "### It looks like there are many days where `type` reports `DELAY` but `description` shows \"`No delays reported.`\" How many of these delays provide a delay duration estimate in the description?"
   ]
  },
  {
   "cell_type": "code",
   "execution_count": 5,
   "metadata": {
    "collapsed": false,
    "deletable": true,
    "editable": true
   },
   "outputs": [
    {
     "data": {
      "text/html": [
       "<div>\n",
       "<table border=\"1\" class=\"dataframe\">\n",
       "  <thead>\n",
       "    <tr style=\"text-align: right;\">\n",
       "      <th></th>\n",
       "      <th>date</th>\n",
       "      <th>description</th>\n",
       "      <th>elev_status</th>\n",
       "      <th>posted</th>\n",
       "      <th>time</th>\n",
       "      <th>traincount</th>\n",
       "      <th>type</th>\n",
       "      <th>weather</th>\n",
       "      <th>delay_duration</th>\n",
       "    </tr>\n",
       "  </thead>\n",
       "  <tbody>\n",
       "    <tr>\n",
       "      <th>65</th>\n",
       "      <td>04/26/2016</td>\n",
       "      <td>No delays reported.</td>\n",
       "      <td>There is one elevator out of service at this t...</td>\n",
       "      <td>NaN</td>\n",
       "      <td>08:00:00 AM PDT</td>\n",
       "      <td>58.0</td>\n",
       "      <td>NaN</td>\n",
       "      <td>Mist</td>\n",
       "      <td>0.0</td>\n",
       "    </tr>\n",
       "    <tr>\n",
       "      <th>57</th>\n",
       "      <td>04/22/2016</td>\n",
       "      <td>There is a 10-minute delay at MacArthur in the...</td>\n",
       "      <td>There are two elevators out of service at this...</td>\n",
       "      <td>Fri Apr 22 2016 07:58 AM PDT</td>\n",
       "      <td>07:59:00 AM PDT</td>\n",
       "      <td>60.0</td>\n",
       "      <td>DELAY</td>\n",
       "      <td>Rain</td>\n",
       "      <td>10.0</td>\n",
       "    </tr>\n",
       "    <tr>\n",
       "      <th>224</th>\n",
       "      <td>07/19/2016</td>\n",
       "      <td>No delays reported.</td>\n",
       "      <td>There are three elevators out of service at th...</td>\n",
       "      <td>NaN</td>\n",
       "      <td>08:00:00 AM PDT</td>\n",
       "      <td>58.0</td>\n",
       "      <td>NaN</td>\n",
       "      <td>Clear</td>\n",
       "      <td>0.0</td>\n",
       "    </tr>\n",
       "    <tr>\n",
       "      <th>413</th>\n",
       "      <td>01/23/2017</td>\n",
       "      <td>BART is recovering from an earlier problem. Th...</td>\n",
       "      <td>There are three elevators out of service at th...</td>\n",
       "      <td>Mon Jan 23 2017 07:40 AM PST</td>\n",
       "      <td>07:59:00 AM PST</td>\n",
       "      <td>61.0</td>\n",
       "      <td>DELAY</td>\n",
       "      <td>Rain</td>\n",
       "      <td>10.0</td>\n",
       "    </tr>\n",
       "    <tr>\n",
       "      <th>323</th>\n",
       "      <td>09/12/2016</td>\n",
       "      <td>BART is recovering from an earlier problem. Th...</td>\n",
       "      <td>There are three elevators out of service at th...</td>\n",
       "      <td>Mon Sep 12 2016 04:52 PM PDT</td>\n",
       "      <td>17:30:00 PM PDT</td>\n",
       "      <td>59.0</td>\n",
       "      <td>DELAY</td>\n",
       "      <td>Mist</td>\n",
       "      <td>10.0</td>\n",
       "    </tr>\n",
       "  </tbody>\n",
       "</table>\n",
       "</div>"
      ],
      "text/plain": [
       "           date                                        description  \\\n",
       "65   04/26/2016                                No delays reported.   \n",
       "57   04/22/2016  There is a 10-minute delay at MacArthur in the...   \n",
       "224  07/19/2016                                No delays reported.   \n",
       "413  01/23/2017  BART is recovering from an earlier problem. Th...   \n",
       "323  09/12/2016  BART is recovering from an earlier problem. Th...   \n",
       "\n",
       "                                           elev_status  \\\n",
       "65   There is one elevator out of service at this t...   \n",
       "57   There are two elevators out of service at this...   \n",
       "224  There are three elevators out of service at th...   \n",
       "413  There are three elevators out of service at th...   \n",
       "323  There are three elevators out of service at th...   \n",
       "\n",
       "                           posted             time  traincount   type weather  \\\n",
       "65                            NaN  08:00:00 AM PDT        58.0    NaN    Mist   \n",
       "57   Fri Apr 22 2016 07:58 AM PDT  07:59:00 AM PDT        60.0  DELAY    Rain   \n",
       "224                           NaN  08:00:00 AM PDT        58.0    NaN   Clear   \n",
       "413  Mon Jan 23 2017 07:40 AM PST  07:59:00 AM PST        61.0  DELAY    Rain   \n",
       "323  Mon Sep 12 2016 04:52 PM PDT  17:30:00 PM PDT        59.0  DELAY    Mist   \n",
       "\n",
       "     delay_duration  \n",
       "65              0.0  \n",
       "57             10.0  \n",
       "224             0.0  \n",
       "413            10.0  \n",
       "323            10.0  "
      ]
     },
     "execution_count": 5,
     "metadata": {},
     "output_type": "execute_result"
    }
   ],
   "source": [
    "for idx, data in df.iterrows():\n",
    "    match = re.search(\"(\\d{2})-minute delay\", data[\"description\"])\n",
    "    if match:\n",
    "        df.set_value(index=idx, col=\"delay_duration\", value=int(match.group(1)))\n",
    "    else:\n",
    "        df.set_value(index=idx, col=\"delay_duration\", value=0)\n",
    "\n",
    "df.sample(5)"
   ]
  },
  {
   "cell_type": "code",
   "execution_count": 6,
   "metadata": {
    "collapsed": false,
    "deletable": true,
    "editable": true
   },
   "outputs": [
    {
     "name": "stdout",
     "output_type": "stream",
     "text": [
      "76 out of 182 total delays provided delay duration estimates.\n",
      "41.8% of delays provided duration estimates.\n"
     ]
    }
   ],
   "source": [
    "duration_provided = np.sum((df.delay_duration > 0) & (df.type == \"DELAY\"))\n",
    "percent_without_duration = round((duration_provided)/total_delays * 100, 1)\n",
    "\n",
    "print(\"{duration_provided} out of {total_delays} total delays provided delay duration estimates.\".format(duration_provided=duration_provided, total_delays=total_delays))\n",
    "print(\"{percent_without_duration}% of delays provided duration estimates.\".format(percent_without_duration=percent_without_duration))"
   ]
  },
  {
   "cell_type": "markdown",
   "metadata": {
    "deletable": true,
    "editable": true
   },
   "source": [
    "### If the above is correct, then less than half of the reported delays in column `type` report any delay duration estimates. Can we identify true delays by identifying the word \"delay\" (and not \"delays\") in the description?"
   ]
  },
  {
   "cell_type": "code",
   "execution_count": 7,
   "metadata": {
    "collapsed": false,
    "deletable": true,
    "editable": true
   },
   "outputs": [
    {
     "data": {
      "text/html": [
       "<div>\n",
       "<table border=\"1\" class=\"dataframe\">\n",
       "  <thead>\n",
       "    <tr style=\"text-align: right;\">\n",
       "      <th></th>\n",
       "      <th>date</th>\n",
       "      <th>description</th>\n",
       "      <th>delay_duration</th>\n",
       "      <th>desc_delay</th>\n",
       "      <th>type</th>\n",
       "    </tr>\n",
       "  </thead>\n",
       "  <tbody>\n",
       "    <tr>\n",
       "      <th>417</th>\n",
       "      <td>01/31/2017</td>\n",
       "      <td>There is a 10-minute delay at San Francisco st...</td>\n",
       "      <td>10.0</td>\n",
       "      <td>True</td>\n",
       "      <td>DELAY</td>\n",
       "    </tr>\n",
       "    <tr>\n",
       "      <th>136</th>\n",
       "      <td>06/03/2016</td>\n",
       "      <td>No delays reported.</td>\n",
       "      <td>0.0</td>\n",
       "      <td>False</td>\n",
       "      <td>NaN</td>\n",
       "    </tr>\n",
       "    <tr>\n",
       "      <th>102</th>\n",
       "      <td>05/16/2016</td>\n",
       "      <td>No delays reported.</td>\n",
       "      <td>0.0</td>\n",
       "      <td>False</td>\n",
       "      <td>NaN</td>\n",
       "    </tr>\n",
       "    <tr>\n",
       "      <th>298</th>\n",
       "      <td>08/29/2016</td>\n",
       "      <td>No delays reported.</td>\n",
       "      <td>0.0</td>\n",
       "      <td>False</td>\n",
       "      <td>NaN</td>\n",
       "    </tr>\n",
       "    <tr>\n",
       "      <th>350</th>\n",
       "      <td>09/28/2016</td>\n",
       "      <td>No delays reported.</td>\n",
       "      <td>0.0</td>\n",
       "      <td>False</td>\n",
       "      <td>NaN</td>\n",
       "    </tr>\n",
       "  </tbody>\n",
       "</table>\n",
       "</div>"
      ],
      "text/plain": [
       "           date                                        description  \\\n",
       "417  01/31/2017  There is a 10-minute delay at San Francisco st...   \n",
       "136  06/03/2016                                No delays reported.   \n",
       "102  05/16/2016                                No delays reported.   \n",
       "298  08/29/2016                                No delays reported.   \n",
       "350  09/28/2016                                No delays reported.   \n",
       "\n",
       "     delay_duration desc_delay   type  \n",
       "417            10.0       True  DELAY  \n",
       "136             0.0      False    NaN  \n",
       "102             0.0      False    NaN  \n",
       "298             0.0      False    NaN  \n",
       "350             0.0      False    NaN  "
      ]
     },
     "execution_count": 7,
     "metadata": {},
     "output_type": "execute_result"
    }
   ],
   "source": [
    "for idx, data in df.iterrows():\n",
    "    match = re.search(\"delay \", data[\"description\"]) # the space in \"delay \" is important\n",
    "    if match:\n",
    "        df.set_value(index=idx, col=\"desc_delay\", value=True)\n",
    "    else:\n",
    "        df.set_value(index=idx, col=\"desc_delay\", value=False)\n",
    "\n",
    "df[[\"date\", \"description\", \"delay_duration\", \"desc_delay\", \"type\"]].sample(5)"
   ]
  },
  {
   "cell_type": "code",
   "execution_count": 8,
   "metadata": {
    "collapsed": false,
    "deletable": true,
    "editable": true
   },
   "outputs": [
    {
     "name": "stdout",
     "output_type": "stream",
     "text": [
      "85 out of 182 total delays were described as being delays.\n",
      "46.7% of postings classified as 'DELAYS' had 'delay' in the description.\n"
     ]
    }
   ],
   "source": [
    "true_delays = np.sum((df.desc_delay == True) & (df.type == \"DELAY\"))\n",
    "percent_false_delays = round((true_delays)/total_delays * 100, 1)\n",
    "\n",
    "print(\"{true_delays} out of {total_delays} total delays were described as being delays.\".format(true_delays=true_delays, total_delays=total_delays))\n",
    "print(\"{percent_false_delays}% of postings classified as 'DELAYS' had 'delay' in the description.\".format(percent_false_delays=percent_false_delays))"
   ]
  },
  {
   "cell_type": "code",
   "execution_count": 9,
   "metadata": {
    "collapsed": false,
    "deletable": true,
    "editable": true,
    "scrolled": true
   },
   "outputs": [
    {
     "name": "stdout",
     "output_type": "stream",
     "text": [
      "75 out of 85 total verified delays provided delay duration estimates.\n",
      "88.2% of verified delays provided duration estimates.\n"
     ]
    }
   ],
   "source": [
    "duration_provided_true = np.sum((df.desc_delay == True) & (df.delay_duration > 0) & (df.type == \"DELAY\"))\n",
    "percent_true_without_duration = round((duration_provided_true)/true_delays * 100, 1)\n",
    "\n",
    "print(\"{duration_provided_true} out of {true_delays} total verified delays provided delay duration estimates.\".format(duration_provided_true=duration_provided_true, true_delays=true_delays))\n",
    "print(\"{percent_true_without_duration}% of verified delays provided duration estimates.\".format(percent_true_without_duration=percent_true_without_duration))"
   ]
  },
  {
   "cell_type": "code",
   "execution_count": 10,
   "metadata": {
    "collapsed": false,
    "deletable": true,
    "editable": true
   },
   "outputs": [
    {
     "name": "stdout",
     "output_type": "stream",
     "text": [
      "Mean duration of delays is 10 minutes.\n"
     ]
    }
   ],
   "source": [
    "# How long is average delay duration?\n",
    "mean_delay = df.loc[(df[\"type\"] == \"DELAY\") & (df[\"desc_delay\"] == True), \"delay_duration\"].mean()\n",
    "print(\"Mean duration of delays is\", round(mean_delay), \"minutes.\")"
   ]
  },
  {
   "cell_type": "code",
   "execution_count": 11,
   "metadata": {
    "collapsed": false,
    "deletable": true,
    "editable": true
   },
   "outputs": [
    {
     "data": {
      "image/png": "[encoded data removed]",
      "text/plain": [
       "<matplotlib.figure.Figure at 0x16ecd635128>"
      ]
     },
     "metadata": {},
     "output_type": "display_data"
    }
   ],
   "source": [
    "fig, ax = plt.subplots(1, 1, figsize=(10, 5))\n",
    "sns.distplot(df[\"delay_duration\"], kde=False, color=\"black\", ax=ax)\n",
    "ax.set(xlabel=\"Delay Duration in Minutes\", ylabel=\"Observed Instances\")\n",
    "plt.show()"
   ]
  },
  {
   "cell_type": "markdown",
   "metadata": {
    "deletable": true,
    "editable": true
   },
   "source": [
    "### Reporting of delays appears to be very general. Delays are reported as either 10 minutes or 20 minutes in duration. Is delay duration associated with weather conditions at all?"
   ]
  },
  {
   "cell_type": "code",
   "execution_count": 12,
   "metadata": {
    "collapsed": false,
    "deletable": true,
    "editable": true
   },
   "outputs": [
    {
     "data": {
      "text/html": [
       "<div>\n",
       "<table border=\"1\" class=\"dataframe\">\n",
       "  <thead>\n",
       "    <tr style=\"text-align: right;\">\n",
       "      <th></th>\n",
       "      <th>weather</th>\n",
       "      <th>delay_duration</th>\n",
       "      <th>count</th>\n",
       "    </tr>\n",
       "  </thead>\n",
       "  <tbody>\n",
       "    <tr>\n",
       "      <th>0</th>\n",
       "      <td>Clear</td>\n",
       "      <td>0.0</td>\n",
       "      <td>84</td>\n",
       "    </tr>\n",
       "    <tr>\n",
       "      <th>1</th>\n",
       "      <td>Clear</td>\n",
       "      <td>10.0</td>\n",
       "      <td>9</td>\n",
       "    </tr>\n",
       "    <tr>\n",
       "      <th>2</th>\n",
       "      <td>Clear</td>\n",
       "      <td>20.0</td>\n",
       "      <td>3</td>\n",
       "    </tr>\n",
       "    <tr>\n",
       "      <th>3</th>\n",
       "      <td>Clouds</td>\n",
       "      <td>0.0</td>\n",
       "      <td>125</td>\n",
       "    </tr>\n",
       "    <tr>\n",
       "      <th>4</th>\n",
       "      <td>Clouds</td>\n",
       "      <td>10.0</td>\n",
       "      <td>14</td>\n",
       "    </tr>\n",
       "    <tr>\n",
       "      <th>5</th>\n",
       "      <td>Clouds</td>\n",
       "      <td>20.0</td>\n",
       "      <td>2</td>\n",
       "    </tr>\n",
       "    <tr>\n",
       "      <th>6</th>\n",
       "      <td>Drizzle</td>\n",
       "      <td>0.0</td>\n",
       "      <td>6</td>\n",
       "    </tr>\n",
       "    <tr>\n",
       "      <th>7</th>\n",
       "      <td>Fog</td>\n",
       "      <td>0.0</td>\n",
       "      <td>8</td>\n",
       "    </tr>\n",
       "    <tr>\n",
       "      <th>8</th>\n",
       "      <td>Fog</td>\n",
       "      <td>10.0</td>\n",
       "      <td>4</td>\n",
       "    </tr>\n",
       "    <tr>\n",
       "      <th>9</th>\n",
       "      <td>Haze</td>\n",
       "      <td>0.0</td>\n",
       "      <td>16</td>\n",
       "    </tr>\n",
       "    <tr>\n",
       "      <th>10</th>\n",
       "      <td>Haze</td>\n",
       "      <td>10.0</td>\n",
       "      <td>5</td>\n",
       "    </tr>\n",
       "    <tr>\n",
       "      <th>11</th>\n",
       "      <td>Mist</td>\n",
       "      <td>0.0</td>\n",
       "      <td>77</td>\n",
       "    </tr>\n",
       "    <tr>\n",
       "      <th>12</th>\n",
       "      <td>Mist</td>\n",
       "      <td>10.0</td>\n",
       "      <td>13</td>\n",
       "    </tr>\n",
       "    <tr>\n",
       "      <th>13</th>\n",
       "      <td>Mist</td>\n",
       "      <td>20.0</td>\n",
       "      <td>2</td>\n",
       "    </tr>\n",
       "    <tr>\n",
       "      <th>14</th>\n",
       "      <td>Rain</td>\n",
       "      <td>0.0</td>\n",
       "      <td>35</td>\n",
       "    </tr>\n",
       "    <tr>\n",
       "      <th>15</th>\n",
       "      <td>Rain</td>\n",
       "      <td>10.0</td>\n",
       "      <td>18</td>\n",
       "    </tr>\n",
       "    <tr>\n",
       "      <th>16</th>\n",
       "      <td>Rain</td>\n",
       "      <td>20.0</td>\n",
       "      <td>5</td>\n",
       "    </tr>\n",
       "    <tr>\n",
       "      <th>17</th>\n",
       "      <td>Smoke</td>\n",
       "      <td>0.0</td>\n",
       "      <td>1</td>\n",
       "    </tr>\n",
       "    <tr>\n",
       "      <th>18</th>\n",
       "      <td>Snow</td>\n",
       "      <td>0.0</td>\n",
       "      <td>1</td>\n",
       "    </tr>\n",
       "    <tr>\n",
       "      <th>19</th>\n",
       "      <td>Thunderstorm</td>\n",
       "      <td>0.0</td>\n",
       "      <td>7</td>\n",
       "    </tr>\n",
       "    <tr>\n",
       "      <th>20</th>\n",
       "      <td>Thunderstorm</td>\n",
       "      <td>20.0</td>\n",
       "      <td>1</td>\n",
       "    </tr>\n",
       "  </tbody>\n",
       "</table>\n",
       "</div>"
      ],
      "text/plain": [
       "         weather  delay_duration  count\n",
       "0          Clear             0.0     84\n",
       "1          Clear            10.0      9\n",
       "2          Clear            20.0      3\n",
       "3         Clouds             0.0    125\n",
       "4         Clouds            10.0     14\n",
       "5         Clouds            20.0      2\n",
       "6        Drizzle             0.0      6\n",
       "7            Fog             0.0      8\n",
       "8            Fog            10.0      4\n",
       "9           Haze             0.0     16\n",
       "10          Haze            10.0      5\n",
       "11          Mist             0.0     77\n",
       "12          Mist            10.0     13\n",
       "13          Mist            20.0      2\n",
       "14          Rain             0.0     35\n",
       "15          Rain            10.0     18\n",
       "16          Rain            20.0      5\n",
       "17         Smoke             0.0      1\n",
       "18          Snow             0.0      1\n",
       "19  Thunderstorm             0.0      7\n",
       "20  Thunderstorm            20.0      1"
      ]
     },
     "execution_count": 12,
     "metadata": {},
     "output_type": "execute_result"
    }
   ],
   "source": [
    "# Are longer delays associated with weather?\n",
    "weather_delay = df.groupby([\"weather\", \"delay_duration\"]).size().reset_index()\n",
    "weather_delay.rename(columns={0:\"count\"}, inplace=True)\n",
    "weather_delay"
   ]
  },
  {
   "cell_type": "code",
   "execution_count": 13,
   "metadata": {
    "collapsed": false,
    "deletable": true,
    "editable": true
   },
   "outputs": [
    {
     "name": "stdout",
     "output_type": "stream",
     "text": [
      "Duration of Observed Delays by Weather Condition for Timepoints Between 03/22/2016 and 03/10/2017\n"
     ]
    },
    {
     "data": {
      "image/png": "[encoded data removed]",
      "text/plain": [
       "<matplotlib.figure.Figure at 0x16ecd769400>"
      ]
     },
     "metadata": {},
     "output_type": "display_data"
    }
   ],
   "source": [
    "fig, ax = plt.subplots(1, 1, figsize=(10, 5))\n",
    "\n",
    "print(\"Duration of Observed Delays by Weather Condition for Timepoints Between {start_date} and {end_date}\".format(start_date=start_date, end_date=end_date))\n",
    "\n",
    "sns.barplot(x=\"delay_duration\", y=\"count\", hue=\"weather\", data=weather_delay, ax=ax, ci=False, edgecolor=\"black\")\n",
    "\n",
    "ax.set(xlabel=\"Delay Duration in Minutes by Weather Conditions\", ylabel=\"Instances Observed\")\n",
    "\n",
    "plt.legend(bbox_to_anchor=(1.05, 1), loc=2, borderaxespad=0.)\n",
    "plt.tight_layout()\n",
    "sns.despine(ax=ax)\n",
    "plt.show()"
   ]
  },
  {
   "cell_type": "markdown",
   "metadata": {
    "deletable": true,
    "editable": true
   },
   "source": [
    "### Rain is the only weather status that looks like it might be represented at higher levels during delays. This matches my expectations, since BART occasionally experiences delays due to wet conditions. Let's check this by looking at the representation of weather conditions by delay duration."
   ]
  },
  {
   "cell_type": "code",
   "execution_count": 14,
   "metadata": {
    "collapsed": false,
    "deletable": true,
    "editable": true,
    "scrolled": false
   },
   "outputs": [
    {
     "data": {
      "text/html": [
       "<div>\n",
       "<table border=\"1\" class=\"dataframe\">\n",
       "  <thead>\n",
       "    <tr style=\"text-align: right;\">\n",
       "      <th></th>\n",
       "      <th>weather</th>\n",
       "      <th>delay_duration</th>\n",
       "      <th>count</th>\n",
       "      <th>%count_by_weather</th>\n",
       "    </tr>\n",
       "  </thead>\n",
       "  <tbody>\n",
       "    <tr>\n",
       "      <th>0</th>\n",
       "      <td>Clear</td>\n",
       "      <td>0.0</td>\n",
       "      <td>84</td>\n",
       "      <td>23.333333</td>\n",
       "    </tr>\n",
       "    <tr>\n",
       "      <th>1</th>\n",
       "      <td>Clear</td>\n",
       "      <td>10.0</td>\n",
       "      <td>9</td>\n",
       "      <td>14.285714</td>\n",
       "    </tr>\n",
       "    <tr>\n",
       "      <th>2</th>\n",
       "      <td>Clear</td>\n",
       "      <td>20.0</td>\n",
       "      <td>3</td>\n",
       "      <td>23.076923</td>\n",
       "    </tr>\n",
       "    <tr>\n",
       "      <th>3</th>\n",
       "      <td>Clouds</td>\n",
       "      <td>0.0</td>\n",
       "      <td>125</td>\n",
       "      <td>34.722222</td>\n",
       "    </tr>\n",
       "    <tr>\n",
       "      <th>4</th>\n",
       "      <td>Clouds</td>\n",
       "      <td>10.0</td>\n",
       "      <td>14</td>\n",
       "      <td>22.222222</td>\n",
       "    </tr>\n",
       "    <tr>\n",
       "      <th>5</th>\n",
       "      <td>Clouds</td>\n",
       "      <td>20.0</td>\n",
       "      <td>2</td>\n",
       "      <td>15.384615</td>\n",
       "    </tr>\n",
       "    <tr>\n",
       "      <th>6</th>\n",
       "      <td>Drizzle</td>\n",
       "      <td>0.0</td>\n",
       "      <td>6</td>\n",
       "      <td>1.666667</td>\n",
       "    </tr>\n",
       "    <tr>\n",
       "      <th>7</th>\n",
       "      <td>Fog</td>\n",
       "      <td>0.0</td>\n",
       "      <td>8</td>\n",
       "      <td>2.222222</td>\n",
       "    </tr>\n",
       "    <tr>\n",
       "      <th>8</th>\n",
       "      <td>Fog</td>\n",
       "      <td>10.0</td>\n",
       "      <td>4</td>\n",
       "      <td>6.349206</td>\n",
       "    </tr>\n",
       "    <tr>\n",
       "      <th>9</th>\n",
       "      <td>Haze</td>\n",
       "      <td>0.0</td>\n",
       "      <td>16</td>\n",
       "      <td>4.444444</td>\n",
       "    </tr>\n",
       "    <tr>\n",
       "      <th>10</th>\n",
       "      <td>Haze</td>\n",
       "      <td>10.0</td>\n",
       "      <td>5</td>\n",
       "      <td>7.936508</td>\n",
       "    </tr>\n",
       "    <tr>\n",
       "      <th>11</th>\n",
       "      <td>Mist</td>\n",
       "      <td>0.0</td>\n",
       "      <td>77</td>\n",
       "      <td>21.388889</td>\n",
       "    </tr>\n",
       "    <tr>\n",
       "      <th>12</th>\n",
       "      <td>Mist</td>\n",
       "      <td>10.0</td>\n",
       "      <td>13</td>\n",
       "      <td>20.634921</td>\n",
       "    </tr>\n",
       "    <tr>\n",
       "      <th>13</th>\n",
       "      <td>Mist</td>\n",
       "      <td>20.0</td>\n",
       "      <td>2</td>\n",
       "      <td>15.384615</td>\n",
       "    </tr>\n",
       "    <tr>\n",
       "      <th>14</th>\n",
       "      <td>Rain</td>\n",
       "      <td>0.0</td>\n",
       "      <td>35</td>\n",
       "      <td>9.722222</td>\n",
       "    </tr>\n",
       "    <tr>\n",
       "      <th>15</th>\n",
       "      <td>Rain</td>\n",
       "      <td>10.0</td>\n",
       "      <td>18</td>\n",
       "      <td>28.571429</td>\n",
       "    </tr>\n",
       "    <tr>\n",
       "      <th>16</th>\n",
       "      <td>Rain</td>\n",
       "      <td>20.0</td>\n",
       "      <td>5</td>\n",
       "      <td>38.461538</td>\n",
       "    </tr>\n",
       "    <tr>\n",
       "      <th>17</th>\n",
       "      <td>Smoke</td>\n",
       "      <td>0.0</td>\n",
       "      <td>1</td>\n",
       "      <td>0.277778</td>\n",
       "    </tr>\n",
       "    <tr>\n",
       "      <th>18</th>\n",
       "      <td>Snow</td>\n",
       "      <td>0.0</td>\n",
       "      <td>1</td>\n",
       "      <td>0.277778</td>\n",
       "    </tr>\n",
       "    <tr>\n",
       "      <th>19</th>\n",
       "      <td>Thunderstorm</td>\n",
       "      <td>0.0</td>\n",
       "      <td>7</td>\n",
       "      <td>1.944444</td>\n",
       "    </tr>\n",
       "    <tr>\n",
       "      <th>20</th>\n",
       "      <td>Thunderstorm</td>\n",
       "      <td>20.0</td>\n",
       "      <td>1</td>\n",
       "      <td>7.692308</td>\n",
       "    </tr>\n",
       "  </tbody>\n",
       "</table>\n",
       "</div>"
      ],
      "text/plain": [
       "         weather  delay_duration  count  %count_by_weather\n",
       "0          Clear             0.0     84          23.333333\n",
       "1          Clear            10.0      9          14.285714\n",
       "2          Clear            20.0      3          23.076923\n",
       "3         Clouds             0.0    125          34.722222\n",
       "4         Clouds            10.0     14          22.222222\n",
       "5         Clouds            20.0      2          15.384615\n",
       "6        Drizzle             0.0      6           1.666667\n",
       "7            Fog             0.0      8           2.222222\n",
       "8            Fog            10.0      4           6.349206\n",
       "9           Haze             0.0     16           4.444444\n",
       "10          Haze            10.0      5           7.936508\n",
       "11          Mist             0.0     77          21.388889\n",
       "12          Mist            10.0     13          20.634921\n",
       "13          Mist            20.0      2          15.384615\n",
       "14          Rain             0.0     35           9.722222\n",
       "15          Rain            10.0     18          28.571429\n",
       "16          Rain            20.0      5          38.461538\n",
       "17         Smoke             0.0      1           0.277778\n",
       "18          Snow             0.0      1           0.277778\n",
       "19  Thunderstorm             0.0      7           1.944444\n",
       "20  Thunderstorm            20.0      1           7.692308"
      ]
     },
     "execution_count": 14,
     "metadata": {},
     "output_type": "execute_result"
    }
   ],
   "source": [
    "def convert_percentage(group):\n",
    "    group_total = group[\"count\"].sum()\n",
    "    group[\"%count_by_weather\"] = [x/group_total*100 for x in group[\"count\"]]\n",
    "    return(group)\n",
    "\n",
    "weather_delay = weather_delay.groupby(\"delay_duration\").apply(convert_percentage)\n",
    "weather_delay"
   ]
  },
  {
   "cell_type": "code",
   "execution_count": 15,
   "metadata": {
    "collapsed": false,
    "deletable": true,
    "editable": true
   },
   "outputs": [
    {
     "name": "stdout",
     "output_type": "stream",
     "text": [
      "Weather Conditions by Delay Duration for Timepoints Between 03/22/2016 and 03/10/2017\n"
     ]
    },
    {
     "data": {
      "image/png": "[encoded data removed]",
      "text/plain": [
       "<matplotlib.figure.Figure at 0x16ecd770ac8>"
      ]
     },
     "metadata": {},
     "output_type": "display_data"
    }
   ],
   "source": [
    "# Are longer delays associated with weather? Take 2.\n",
    "\n",
    "fig, ax = plt.subplots(1, 1, figsize=(15, 5))\n",
    "\n",
    "print(\"Weather Conditions by Delay Duration for Timepoints Between {start_date} and {end_date}\".format(start_date=start_date, end_date=end_date))\n",
    "\n",
    "sns.barplot(x=\"weather\", y=\"%count_by_weather\", hue=\"delay_duration\", data=weather_delay, ax=ax, ci=False, edgecolor=\"black\")\n",
    "\n",
    "ax.set(xlabel=\"Weather Conditions by Delay Duration in Minutes\", ylabel=\"Instances Observed\", ylim=[0, 50])\n",
    "\n",
    "plt.legend(bbox_to_anchor=(1.05, 1), loc=2, borderaxespad=0.)\n",
    "plt.tight_layout()\n",
    "sns.despine(ax=ax)\n",
    "plt.show()"
   ]
  },
  {
   "cell_type": "markdown",
   "metadata": {
    "deletable": true,
    "editable": true
   },
   "source": [
    "### Indeed, longer delay durations appear to be overrepresented in rainy conditions. The thunderstorm data also hints at this. Thunderstorms are relatively rare in the Bay Area and I suspect they are associated with more severe storms and rain. If we had rainfall measurements for these timepoints, I suspect increased delays would correlate with increased rainfall."
   ]
  },
  {
   "cell_type": "markdown",
   "metadata": {
    "deletable": true,
    "editable": true
   },
   "source": [
    "### Anyone who has used the BART system has probably heard the system-wide announcements regarding the number of elevators out-of-service. Let's see what the data shows."
   ]
  },
  {
   "cell_type": "code",
   "execution_count": 16,
   "metadata": {
    "collapsed": false,
    "deletable": true,
    "editable": true
   },
   "outputs": [],
   "source": [
    "def count_elevators(status):\n",
    "    \"\"\"Return elevators out of service as integer value.\"\"\"\n",
    "\n",
    "    num_words = [\"no\", \"one\", \"two\", \"three\", \"four\", \"five\", \"six\", \"seven\", \"eight\", \"nine\", \"ten\", \"eleven\", \"twelve\"]\n",
    "    text_to_int = dict(zip(num_words, range(12)))\n",
    "    split = str.split(status, \" \")\n",
    "\n",
    "    for s in split:\n",
    "        if s in num_words:\n",
    "            return text_to_int[s]\n",
    "    return 0\n",
    "    \n",
    "df[\"elev_count\"] = df[\"elev_status\"].apply(count_elevators)"
   ]
  },
  {
   "cell_type": "code",
   "execution_count": 17,
   "metadata": {
    "collapsed": false,
    "deletable": true,
    "editable": true
   },
   "outputs": [
    {
     "name": "stdout",
     "output_type": "stream",
     "text": [
      "Out of Service Elevators for Timepoints Between 03/22/2016 and 03/10/2017\n"
     ]
    },
    {
     "data": {
      "image/png": "[encoded data removed]",
      "text/plain": [
       "<matplotlib.figure.Figure at 0x16ecdd0de10>"
      ]
     },
     "metadata": {},
     "output_type": "display_data"
    }
   ],
   "source": [
    "alpha = 0.75\n",
    "\n",
    "fig, ax = plt.subplots(1, 1, figsize=(10, 5))\n",
    "print(\"Out of Service Elevators for Timepoints Between {start_date} and {end_date}\".format(start_date=start_date, end_date=end_date))\n",
    "sns.distplot(df[\"elev_count\"], ax=ax, kde=False, color=\"red\", hist_kws=dict(alpha=alpha, edgecolor=\"black\", linewidth=1), bins=[-0.5 + x for x in range(13)], norm_hist=True)\n",
    "ax.set(xlabel=\"Number of Elevators Out of Service\", ylabel=\"Fraction of Instances Observed\", xlim=[-0.5, 12.5], xticks=range(13))\n",
    "plt.tight_layout()\n",
    "sns.despine(ax=ax)\n",
    "plt.show()"
   ]
  },
  {
   "cell_type": "code",
   "execution_count": 18,
   "metadata": {
    "collapsed": false,
    "deletable": true,
    "editable": true,
    "run_control": {
     "marked": false
    }
   },
   "outputs": [
    {
     "name": "stdout",
     "output_type": "stream",
     "text": [
      "BART riders experienced elevator outages on 392 out of 436 timepoints assessed (two per day).\n",
      "The BART system recorded an elevator outage rate of 89.9% during peak hours (8 AM and 5 PM daily) between 03/22/2016 and 03/10/2017.\n"
     ]
    }
   ],
   "source": [
    "total_elev_out = np.sum(df[\"elev_count\"] > 0)\n",
    "percent_elev_out = round(total_elev_out/total_timepoints * 100, 1)\n",
    "\n",
    "print(\"BART riders experienced elevator outages on {total_elev_out} out of {total_timepoints} timepoints assessed (two per day).\".format(total_elev_out=total_elev_out, total_timepoints=total_timepoints))\n",
    "print(\"The BART system recorded an elevator outage rate of {percent_elev_out}% during peak hours (8 AM and 5 PM daily) between {start_date} and {end_date}.\".format(percent_elev_out=percent_elev_out, \n",
    "    start_date=start_date, end_date=end_date))"
   ]
  },
  {
   "cell_type": "markdown",
   "metadata": {
    "deletable": true,
    "editable": true
   },
   "source": [
    "### BART had elevators out-of-service about 90% of the time. From experience I know that the elevators out-of-service are usually not the same from day-to-day. It would be interesting to look at the frequency of particular station elevators going out of service. The results from that might suggest which station elevators need the most attention."
   ]
  },
  {
   "cell_type": "markdown",
   "metadata": {
    "deletable": true,
    "editable": true
   },
   "source": [
    "### Let's take a look at the number of active trains."
   ]
  },
  {
   "cell_type": "code",
   "execution_count": 19,
   "metadata": {
    "collapsed": false,
    "deletable": true,
    "editable": true
   },
   "outputs": [
    {
     "name": "stdout",
     "output_type": "stream",
     "text": [
      "On 08/21/2016 there were no trains listed due to the following status update:\n",
      "\"There is no Bart service thru Daly City, Balboa Park or Glen Park stations this weekend August 20-21. There is a bus bridge between those stations. Expect up to 60 minute delays due to track maintenance. Visit Bart.gov for more info. \"\n"
     ]
    }
   ],
   "source": [
    "no_trains = df[np.logical_not(np.isfinite(df.traincount))].copy()\n",
    "for idx, data in no_trains.iterrows():\n",
    "    print('On {date} there were no trains listed due to the following status update:\\n\"{description}\"'.format(date=data.date, description=data.description))"
   ]
  },
  {
   "cell_type": "markdown",
   "metadata": {
    "deletable": true,
    "editable": true
   },
   "source": [
    "### There were special circumstances in August due to track repairs. These circumstances resulted in some unreported values in the `traincount` data."
   ]
  },
  {
   "cell_type": "code",
   "execution_count": 20,
   "metadata": {
    "collapsed": false,
    "deletable": true,
    "editable": true
   },
   "outputs": [
    {
     "name": "stdout",
     "output_type": "stream",
     "text": [
      "\n",
      "NaN values in column 'traincount' have been filled with 0.\n",
      "Number of Active Trains for Timepoints Between 03/22/2016 and 03/10/2017\n"
     ]
    },
    {
     "data": {
      "image/png": "[encoded data removed]",
      "text/plain": [
       "<matplotlib.figure.Figure at 0x16ecdd5fc88>"
      ]
     },
     "metadata": {},
     "output_type": "display_data"
    }
   ],
   "source": [
    "df.loc[no_trains.index, \"traincount\"] = 0\n",
    "print(\"\\nNaN values in column 'traincount' have been filled with 0.\")\n",
    "\n",
    "alpha = 0.75\n",
    "\n",
    "fig, ax = plt.subplots(1, 1, figsize=(10, 5))\n",
    "print(\"Number of Active Trains for Timepoints Between {start_date} and {end_date}\".format(start_date=start_date, end_date=end_date))\n",
    "sns.distplot(df[\"traincount\"], ax=ax, kde=False, color=\"blue\", hist_kws=dict(alpha=alpha, edgecolor=\"black\", linewidth=1), bins=[-0.5 + x for x in range(80)])\n",
    "ax.set(xlabel=\"Number of Active Trains\", ylabel=\"Instances Observed\", xlim=[-0.5, 70.5], xticks=range(0, 80, 5))\n",
    "plt.tight_layout()\n",
    "sns.despine(ax=ax)\n",
    "plt.show()"
   ]
  },
  {
   "cell_type": "markdown",
   "metadata": {
    "deletable": true,
    "editable": true
   },
   "source": [
    "### It looks line the number of active trains is composed of multiple distinct distributions. Can the distributions in train count be attributed to day of the week (weekend vs weekday) and holidays?"
   ]
  },
  {
   "cell_type": "code",
   "execution_count": 21,
   "metadata": {
    "collapsed": false,
    "deletable": true,
    "editable": true
   },
   "outputs": [
    {
     "name": "stdout",
     "output_type": "stream",
     "text": [
      "03/22/2016 was a Tuesday.\n",
      "Parser gives day as: Tuesday\n"
     ]
    }
   ],
   "source": [
    "# Let's start by parsing dates to yield days of the week\n",
    "\n",
    "print(start_date, 'was a Tuesday.')\n",
    "print(\"Parser gives day as:\", time.strftime(\"%A\", time.strptime(start_date, \"%m/%d/%Y\")))"
   ]
  },
  {
   "cell_type": "code",
   "execution_count": 22,
   "metadata": {
    "collapsed": false,
    "deletable": true,
    "editable": true
   },
   "outputs": [],
   "source": [
    "def date_to_day(date_string):\n",
    "    \"\"\"Converts a date string into the day of the week.\"\"\"\n",
    "    return time.strftime(\"%A\", time.strptime(date_string, \"%m/%d/%Y\"))\n",
    "\n",
    "df[\"day\"] = df[\"date\"].apply(date_to_day)"
   ]
  },
  {
   "cell_type": "code",
   "execution_count": 23,
   "metadata": {
    "collapsed": false,
    "deletable": true,
    "editable": true
   },
   "outputs": [
    {
     "name": "stdout",
     "output_type": "stream",
     "text": [
      "Number of Active Trains for Timepoints Between 03/22/2016 and 03/10/2017\n"
     ]
    },
    {
     "data": {
      "image/png": "[encoded data removed]",
      "text/plain": [
       "<matplotlib.figure.Figure at 0x16ecdcf2630>"
      ]
     },
     "metadata": {},
     "output_type": "display_data"
    }
   ],
   "source": [
    "# Regenerate histogram by plotting weekday and weekend histograms on the same axes in different colors\n",
    "weekday = df.loc[(df[\"day\"] != \"Saturday\") & (df[\"day\"] != \"Sunday\"), :].copy()\n",
    "weekend = df.loc[(df[\"day\"] == \"Saturday\") | (df[\"day\"] == \"Sunday\"), :].copy()\n",
    "df.loc[weekday.index, \"weekday\"] = True\n",
    "df.loc[weekend.index, \"weekday\"] = False\n",
    "\n",
    "alpha = 0.75\n",
    "hist_kws = dict(alpha=alpha, edgecolor=\"black\", linewidth=1)\n",
    "\n",
    "fig, ax = plt.subplots(1, 1, figsize=(10, 5))\n",
    "bins = [-0.5 + x for x in range(80)]\n",
    "print(\"Number of Active Trains for Timepoints Between {start_date} and {end_date}\".format(start_date=start_date, end_date=end_date))\n",
    "sns.distplot(weekend[\"traincount\"], ax=ax, kde=False, bins=bins, hist_kws=hist_kws, label=\"Weekend Trains\", color=\"red\")\n",
    "sns.distplot(weekday[\"traincount\"], ax=ax, kde=False, bins=bins, hist_kws=hist_kws, label=\"Weekday Trains\", color=\"blue\")\n",
    "ax.set(xlabel=\"Number of Active Trains\", ylabel=\"Instances Observed\", xlim=[-0.5, 70.5], xticks=range(0, 80, 5))\n",
    "plt.legend(bbox_to_anchor=(1.05, 1), loc=2, borderaxespad=0.)\n",
    "plt.tight_layout()\n",
    "sns.despine(ax=ax)\n",
    "plt.show()"
   ]
  },
  {
   "cell_type": "markdown",
   "metadata": {
    "deletable": true,
    "editable": true
   },
   "source": [
    "### Clearly there are separate distributions for weekday and weekend train counts. The weekend `traincount` looks like it may also be made up of three distinct distributions. I suspect these correspond to combinations of day (Sat vs Sun) and time (morning vs evening). \n",
    "\n",
    "### There also appears to be a few outliers in the weekday data. I suspect the weekdays with `traincount` < 50 are holidays. Is this true?"
   ]
  },
  {
   "cell_type": "code",
   "execution_count": 24,
   "metadata": {
    "collapsed": false,
    "deletable": true,
    "editable": true
   },
   "outputs": [
    {
     "data": {
      "text/plain": [
       "129    05/30/2016\n",
       "195    07/04/2016\n",
       "310    09/05/2016\n",
       "Name: date, dtype: object"
      ]
     },
     "execution_count": 24,
     "metadata": {},
     "output_type": "execute_result"
    }
   ],
   "source": [
    "# Are the few weekdays with a lower than average number of active trains holidays?\n",
    "weekday.loc[(weekday[\"traincount\"] < 50), \"date\"].drop_duplicates()"
   ]
  },
  {
   "cell_type": "markdown",
   "metadata": {
    "deletable": true,
    "editable": true
   },
   "source": [
    "### Yes, all three dates are holidays.\n",
    "* 05/30/2016 - Memorial Day\n",
    "* 07/04/2016 - Independence Day\n",
    "* 09/05/2016 - Labor Day"
   ]
  },
  {
   "cell_type": "markdown",
   "metadata": {
    "deletable": true,
    "editable": true
   },
   "source": [
    "### Is there any association between the number of active trains and the weather conditions?"
   ]
  },
  {
   "cell_type": "code",
   "execution_count": 25,
   "metadata": {
    "collapsed": false,
    "deletable": true,
    "editable": true
   },
   "outputs": [
    {
     "name": "stdout",
     "output_type": "stream",
     "text": [
      "Number of Active Trains by Weather Condition for Timepoints Between 03/22/2016 and 03/10/2017\n"
     ]
    },
    {
     "data": {
      "image/png": "[encoded data removed]",
      "text/plain": [
       "<matplotlib.figure.Figure at 0x16ecdd1e860>"
      ]
     },
     "metadata": {},
     "output_type": "display_data"
    }
   ],
   "source": [
    "# How does weather relate to the number of active trains?\n",
    "conditions = np.unique(df.weather)\n",
    "\n",
    "fig, ax = plt.subplots(1, 1, figsize=(10, 5))\n",
    "\n",
    "alpha = 0.75\n",
    "\n",
    "print(\"Number of Active Trains by Weather Condition for Timepoints Between {start_date} and {end_date}\".format(start_date=start_date, end_date=end_date))\n",
    "\n",
    "sns.stripplot(x=\"traincount\", y=\"weather\", orient=\"h\", data=weekend, ax=ax, jitter=True, color=\"red\", edgecolor='black', linewidth=1, alpha=alpha)\n",
    "sns.boxplot(x=\"traincount\", y=\"weather\", orient=\"h\", data=weekend, ax=ax, color=\"pink\")\n",
    "\n",
    "sns.stripplot(x=\"traincount\", y=\"weather\", orient=\"h\", data=weekday, ax=ax, jitter=True, color=\"blue\", edgecolor='black', linewidth=1, alpha=alpha)\n",
    "sns.boxplot(x=\"traincount\", y=\"weather\", orient=\"h\", data=weekday, ax=ax, color=\"lightblue\")\n",
    "\n",
    "ax.set(xlabel=\"Number of Active Trains\", ylabel=\"Weather Conditions\")\n",
    "\n",
    "weekend_legend = plt.Line2D((0,1),(0,0), color='red', marker='o', linestyle='', markeredgecolor=\"black\", markeredgewidth=1, alpha=alpha)\n",
    "weekday_legend = plt.Line2D((0,1),(0,0), color='blue', marker='o', linestyle='', markeredgecolor=\"black\", markeredgewidth=1, alpha=alpha)\n",
    "\n",
    "plt.legend([weekend_legend, weekday_legend], [\"Weekend Trains\", \"Weekday Trains\"], bbox_to_anchor=(1.05, 1), loc=2, borderaxespad=0.)\n",
    "plt.tight_layout()\n",
    "sns.despine(ax=ax)\n",
    "plt.show()"
   ]
  },
  {
   "cell_type": "markdown",
   "metadata": {
    "deletable": true,
    "editable": true
   },
   "source": [
    "### There does not appear to be any association between train count and weather conditions. The median values for the number of active trains are similar across weather conditions."
   ]
  },
  {
   "cell_type": "markdown",
   "metadata": {
    "deletable": true,
    "editable": true
   },
   "source": [
    "# That's all for now. Thanks for following along!\n",
    "\n",
    "---\n",
    "Brian Perea (c) 2017 - Find me on Github at https://github.com/bcperea"
   ]
  }
 ],
 "metadata": {
  "anaconda-cloud": {},
  "kernelspec": {
   "display_name": "Python [conda root]",
   "language": "python",
   "name": "conda-root-py"
  },
  "language_info": {
   "codemirror_mode": {
    "name": "ipython",
    "version": 3
   },
   "file_extension": ".py",
   "mimetype": "text/x-python",
   "name": "python",
   "nbconvert_exporter": "python",
   "pygments_lexer": "ipython3",
   "version": "3.5.3"
  },
  "toc": {
   "nav_menu": {
    "height": "67px",
    "width": "252px"
   },
   "navigate_menu": true,
   "number_sections": true,
   "sideBar": true,
   "threshold": 4,
   "toc_cell": false,
   "toc_section_display": "block",
   "toc_window_display": false
  }
 },
 "nbformat": 4,
 "nbformat_minor": 1
}
